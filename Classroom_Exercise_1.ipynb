{
 "cells": [
  {
   "cell_type": "markdown",
   "metadata": {},
   "source": [
    "# Basics of Python"
   ]
  },
  {
   "cell_type": "markdown",
   "metadata": {},
   "source": [
    "## Part 1: Getting Started"
   ]
  },
  {
   "cell_type": "markdown",
   "metadata": {},
   "source": [
    "Statements can be printed in Python using the **print( )** function. Use this function or command to print the following:\n",
    "    1. \"My name is <your name>\"\n",
    "    2. \"It is 35 degrees outside\"\n",
    "    3. 85\n",
    "    4. \"85\"\n",
    "    5. 85.0\n",
    "    6. 3.5"
   ]
  },
  {
   "cell_type": "code",
   "execution_count": 1,
   "metadata": {},
   "outputs": [
    {
     "name": "stdout",
     "output_type": "stream",
     "text": [
      "My name is Shirlei\n"
     ]
    }
   ],
   "source": [
    "print(\"My name is Shirlei\")"
   ]
  },
  {
   "cell_type": "code",
   "execution_count": 2,
   "metadata": {},
   "outputs": [
    {
     "name": "stdout",
     "output_type": "stream",
     "text": [
      "It is 35 degrees outside\n"
     ]
    }
   ],
   "source": [
    "print(\"It is 35 degrees outside\")"
   ]
  },
  {
   "cell_type": "code",
   "execution_count": 3,
   "metadata": {},
   "outputs": [
    {
     "name": "stdout",
     "output_type": "stream",
     "text": [
      "85\n"
     ]
    }
   ],
   "source": [
    "print(85)"
   ]
  },
  {
   "cell_type": "code",
   "execution_count": 4,
   "metadata": {},
   "outputs": [
    {
     "name": "stdout",
     "output_type": "stream",
     "text": [
      "85\n"
     ]
    }
   ],
   "source": [
    "print(\"85\")"
   ]
  },
  {
   "cell_type": "code",
   "execution_count": 5,
   "metadata": {},
   "outputs": [
    {
     "name": "stdout",
     "output_type": "stream",
     "text": [
      "85.0\n"
     ]
    }
   ],
   "source": [
    "print(85.0)"
   ]
  },
  {
   "cell_type": "code",
   "execution_count": 6,
   "metadata": {},
   "outputs": [
    {
     "name": "stdout",
     "output_type": "stream",
     "text": [
      "3.5\n"
     ]
    }
   ],
   "source": [
    "print (3.5)"
   ]
  },
  {
   "cell_type": "markdown",
   "metadata": {},
   "source": [
    "Data need to be stored before being used for computation. Programming languages provide **variables** to store data. \n",
    "    1. Define three variables a, b and c. \n",
    "    2. Initialise them with the values of 35, 46.5 and \"hello world\" respectively.\n",
    "    3. What is the data type of each variable?\n",
    "    4. Use the \"type\" function to find out the data type.\n",
    "    5. Can you tell the difference between (3) (4) and (5) in the previous task in Part 1?"
   ]
  },
  {
   "cell_type": "code",
   "execution_count": 7,
   "metadata": {},
   "outputs": [],
   "source": [
    "a,b,c=35,46.5,'hello world'"
   ]
  },
  {
   "cell_type": "code",
   "execution_count": 8,
   "metadata": {},
   "outputs": [
    {
     "data": {
      "text/plain": [
       "35"
      ]
     },
     "execution_count": 8,
     "metadata": {},
     "output_type": "execute_result"
    }
   ],
   "source": [
    "a"
   ]
  },
  {
   "cell_type": "code",
   "execution_count": 9,
   "metadata": {},
   "outputs": [
    {
     "data": {
      "text/plain": [
       "46.5"
      ]
     },
     "execution_count": 9,
     "metadata": {},
     "output_type": "execute_result"
    }
   ],
   "source": [
    "b"
   ]
  },
  {
   "cell_type": "code",
   "execution_count": 10,
   "metadata": {},
   "outputs": [
    {
     "data": {
      "text/plain": [
       "'hello world'"
      ]
     },
     "execution_count": 10,
     "metadata": {},
     "output_type": "execute_result"
    }
   ],
   "source": [
    "c"
   ]
  },
  {
   "cell_type": "code",
   "execution_count": 11,
   "metadata": {},
   "outputs": [
    {
     "data": {
      "text/plain": [
       "int"
      ]
     },
     "execution_count": 11,
     "metadata": {},
     "output_type": "execute_result"
    }
   ],
   "source": [
    "type (a)"
   ]
  },
  {
   "cell_type": "code",
   "execution_count": 12,
   "metadata": {
    "scrolled": true
   },
   "outputs": [
    {
     "data": {
      "text/plain": [
       "float"
      ]
     },
     "execution_count": 12,
     "metadata": {},
     "output_type": "execute_result"
    }
   ],
   "source": [
    "type (b)"
   ]
  },
  {
   "cell_type": "code",
   "execution_count": 13,
   "metadata": {},
   "outputs": [
    {
     "data": {
      "text/plain": [
       "str"
      ]
     },
     "execution_count": 13,
     "metadata": {},
     "output_type": "execute_result"
    }
   ],
   "source": [
    "type (c)"
   ]
  },
  {
   "cell_type": "markdown",
   "metadata": {},
   "source": [
    "3 is int (a number); 4 is str; 5 is float"
   ]
  },
  {
   "cell_type": "markdown",
   "metadata": {},
   "source": [
    "## Part 2: Arithmetic Operators"
   ]
  },
  {
   "cell_type": "markdown",
   "metadata": {},
   "source": [
    "Without running these commands, state the output of the following statements. \n",
    "(Assume that **a = 10**, **b = 5**, **c = 5.5**, **d = 3**)\n",
    "    1. a + 2 * b\n",
    "    2. b - 4 / a\n",
    "    3. a / b\n",
    "    4. a // b\n",
    "    5. 1 / 2\n",
    "    6. 1 // 2\n",
    "    7. 1 % 2\n",
    "    8. a ** d\n",
    "    9. a / b + 5 - 5.5 * c\n",
    "    10. a**2 + 2 - c // 5 * 2\n",
    "    11. (a + b) * 3 / d + (4 - d)\n",
    "    12. 2 * ( a * 2 / a)"
   ]
  },
  {
   "cell_type": "code",
   "execution_count": 14,
   "metadata": {},
   "outputs": [],
   "source": [
    "a,b,c,d=10,5,5.5,3"
   ]
  },
  {
   "cell_type": "code",
   "execution_count": 15,
   "metadata": {},
   "outputs": [
    {
     "data": {
      "text/plain": [
       "4.0"
      ]
     },
     "execution_count": 15,
     "metadata": {},
     "output_type": "execute_result"
    }
   ],
   "source": [
    "a,b,c,d=10,5,5.5,3\n",
    "a+2*b\n",
    "b-4/a\n",
    "a / b\n",
    "a // b\n",
    "1 / 2\n",
    "1 // 2\n",
    "1 % 2\n",
    "a ** d\n",
    "a / b + 5 - 5.5 * c\n",
    "a**2 + 2 - c // 5 * 2\n",
    "(a + b) * 3 / d + (4 - d)\n",
    "2 * ( a * 2 / a)"
   ]
  },
  {
   "cell_type": "markdown",
   "metadata": {},
   "source": [
    "Now run the commands and print the output. \n",
    "What is the difference between (3) and (4)? What is the **operator precedence** in Python? "
   ]
  },
  {
   "cell_type": "code",
   "execution_count": 16,
   "metadata": {},
   "outputs": [
    {
     "data": {
      "text/plain": [
       "float"
      ]
     },
     "execution_count": 16,
     "metadata": {},
     "output_type": "execute_result"
    }
   ],
   "source": [
    "type(a / b)"
   ]
  },
  {
   "cell_type": "code",
   "execution_count": 17,
   "metadata": {},
   "outputs": [
    {
     "data": {
      "text/plain": [
       "int"
      ]
     },
     "execution_count": 17,
     "metadata": {},
     "output_type": "execute_result"
    }
   ],
   "source": [
    "type(a // b)"
   ]
  },
  {
   "cell_type": "markdown",
   "metadata": {},
   "source": [
    "## Part 3: String Operations and Typecasting"
   ]
  },
  {
   "cell_type": "markdown",
   "metadata": {},
   "source": [
    "1. Define two string variables and initialise them with \"abc\" and \"xyz\".\n",
    "2. Concatenate the two variables and store them in another variable.\n",
    "3. Determine the length of this variable using **len( )** function.\n",
    "4. Find the number of occurrence of the letter 'o' in \"OOOooofffforossseroO\" using **count( )** function. "
   ]
  },
  {
   "cell_type": "code",
   "execution_count": 18,
   "metadata": {},
   "outputs": [
    {
     "name": "stdout",
     "output_type": "stream",
     "text": [
      "abcxyz\n",
      "6\n",
      "20\n",
      "6\n"
     ]
    }
   ],
   "source": [
    "variable1=\"abc\"\n",
    "variable2=\"xyz\"\n",
    "variable3=variable1+variable2\n",
    "print(variable3)\n",
    "print(len(variable3))\n",
    "variable4=\"OOOooofffforossseroO\"\n",
    "print(len(variable4))\n",
    "print(variable4.count('o')) "
   ]
  },
  {
   "cell_type": "markdown",
   "metadata": {},
   "source": [
    "What is _wrong_ with the following block of code? Run this code to find out the error.\n",
    "\n",
    "    a = \"He got \"\n",
    "    b = 35\n",
    "    c = \"marks in the test\"\n",
    "    d = a + b + c\n",
    "    print(d)"
   ]
  },
  {
   "cell_type": "markdown",
   "metadata": {},
   "source": [
    "String operators can only work on variables of string type. Therefore all variables need to be converted to string before the operation can be applied to them. Variables can be converted from one type to another using _typecasting_. Anything can be typecasted to string by using the **str( )** operator. \n",
    "Now use this operator to fix the error above."
   ]
  },
  {
   "cell_type": "code",
   "execution_count": 19,
   "metadata": {},
   "outputs": [
    {
     "ename": "TypeError",
     "evalue": "can only concatenate str (not \"int\") to str",
     "output_type": "error",
     "traceback": [
      "\u001b[1;31m---------------------------------------------------------------------------\u001b[0m",
      "\u001b[1;31mTypeError\u001b[0m                                 Traceback (most recent call last)",
      "\u001b[1;32m<ipython-input-19-6dfb7e0a22db>\u001b[0m in \u001b[0;36m<module>\u001b[1;34m\u001b[0m\n\u001b[0;32m      2\u001b[0m \u001b[0mb\u001b[0m \u001b[1;33m=\u001b[0m \u001b[1;36m35\u001b[0m\u001b[1;33m\u001b[0m\u001b[1;33m\u001b[0m\u001b[0m\n\u001b[0;32m      3\u001b[0m \u001b[0mc\u001b[0m \u001b[1;33m=\u001b[0m \u001b[1;34m\" marks in the test\"\u001b[0m\u001b[1;33m\u001b[0m\u001b[1;33m\u001b[0m\u001b[0m\n\u001b[1;32m----> 4\u001b[1;33m \u001b[0md\u001b[0m \u001b[1;33m=\u001b[0m \u001b[0ma\u001b[0m \u001b[1;33m+\u001b[0m \u001b[0mb\u001b[0m \u001b[1;33m+\u001b[0m \u001b[0mc\u001b[0m\u001b[1;33m\u001b[0m\u001b[1;33m\u001b[0m\u001b[0m\n\u001b[0m\u001b[0;32m      5\u001b[0m \u001b[0mprint\u001b[0m\u001b[1;33m(\u001b[0m\u001b[0md\u001b[0m\u001b[1;33m)\u001b[0m\u001b[1;33m\u001b[0m\u001b[1;33m\u001b[0m\u001b[0m\n",
      "\u001b[1;31mTypeError\u001b[0m: can only concatenate str (not \"int\") to str"
     ]
    }
   ],
   "source": [
    "a = \"He got \"\n",
    "b = 35\n",
    "c = \" marks in the test\"\n",
    "d = a + b + c\n",
    "print(d)"
   ]
  },
  {
   "cell_type": "code",
   "execution_count": 20,
   "metadata": {},
   "outputs": [
    {
     "name": "stdout",
     "output_type": "stream",
     "text": [
      "He got 35 marks in the test\n"
     ]
    }
   ],
   "source": [
    "a = \"He got \"\n",
    "b = 35\n",
    "c = \" marks in the test\"\n",
    "d = a + str(b) + c\n",
    "print(d)"
   ]
  },
  {
   "cell_type": "markdown",
   "metadata": {},
   "source": [
    "## Part 4: Relational and Logical Operators"
   ]
  },
  {
   "cell_type": "markdown",
   "metadata": {},
   "source": [
    "Without running these commands, state whether these statements would be **True** or **False**. \n",
    "    1. 12 > 13 - False\n",
    "    2. 12 > 12 - False\n",
    "    3. 12 >= 12 - True\n",
    "    4. 12 < 12 - False\n",
    "    5. 12 <= 12 - True\n",
    "    6. 12 < 13 - True\n",
    "    7. 12 == 12 - True\n",
    "    8. 12.0 == 12 - True\n",
    "    9. 13.5 >= 13 - False\n",
    "    10. 23.4 > 22.8 - True\n",
    "Now use the **print( )** function to see the output."
   ]
  },
  {
   "cell_type": "code",
   "execution_count": 21,
   "metadata": {},
   "outputs": [
    {
     "name": "stdout",
     "output_type": "stream",
     "text": [
      "False\n",
      "False\n",
      "True\n",
      "False\n",
      "True\n",
      "True\n",
      "True\n",
      "True\n",
      "True\n",
      "True\n"
     ]
    }
   ],
   "source": [
    "print(12 > 13)\n",
    "print(12 > 12)\n",
    "print(12 >= 12)\n",
    "print(12 < 12)\n",
    "print(12 <= 12)\n",
    "print(12 < 13)\n",
    "print(12 == 12)\n",
    "print(12.0 == 12)\n",
    "print(13.5 >= 13)\n",
    "print(23.4 > 22.8)"
   ]
  },
  {
   "cell_type": "markdown",
   "metadata": {},
   "source": [
    "Again without running these commands state whether the statemnts are **True** or **False** and then run the commands to see the output.\n",
    "    1. 12 < 13 and 1 > 2 - False\n",
    "    2. 12 < 13 or 1 > 2 - True\n",
    "    3. 12 < 13 and 14 > 5 or 16 == 15 - True\n",
    "    4. 12 < 13 and 14 > 5 and 16 == 15 - False"
   ]
  },
  {
   "cell_type": "code",
   "execution_count": 22,
   "metadata": {},
   "outputs": [
    {
     "name": "stdout",
     "output_type": "stream",
     "text": [
      "False\n",
      "True\n",
      "True\n",
      "False\n"
     ]
    }
   ],
   "source": [
    "print(12 < 13 and 1 > 2)\n",
    "print(12 < 13 or 1 > 2)\n",
    "print(12 < 13 and 14 > 5 or 16 == 15)\n",
    "print(12 < 13 and 14 > 5 and 16 == 15)"
   ]
  }
 ],
 "metadata": {
  "anaconda-cloud": {},
  "kernelspec": {
   "display_name": "Python 3",
   "language": "python",
   "name": "python3"
  },
  "language_info": {
   "codemirror_mode": {
    "name": "ipython",
    "version": 3
   },
   "file_extension": ".py",
   "mimetype": "text/x-python",
   "name": "python",
   "nbconvert_exporter": "python",
   "pygments_lexer": "ipython3",
   "version": "3.7.4"
  }
 },
 "nbformat": 4,
 "nbformat_minor": 1
}
